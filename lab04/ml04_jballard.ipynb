{
 "cells": [
  {
   "cell_type": "markdown",
   "metadata": {},
   "source": [
    "# Lab 4 Project (Titanic)\n",
    "Jason Ballard\n",
    "4 April 2025\n",
    "\n",
    "Import the external Python libraries used (e.g., pandas, numpy, matplotlib, seaborn, sklearn and more)."
   ]
  },
  {
   "cell_type": "markdown",
   "metadata": {},
   "source": [
    "## Section 1. Import and Inspect the Data"
   ]
  },
  {
   "cell_type": "code",
   "execution_count": 38,
   "metadata": {},
   "outputs": [],
   "source": [
    "# all imports get moved to the top - import each only once\n",
    "\n",
    "import seaborn as sns\n",
    "import pandas as pd\n",
    "import numpy as np\n",
    "import matplotlib.pyplot as plt\n",
    "\n",
    "from sklearn.model_selection import train_test_split\n",
    "from sklearn.linear_model import LinearRegression, Ridge, ElasticNet\n",
    "from sklearn.preprocessing import PolynomialFeatures\n",
    "from sklearn.metrics import mean_squared_error, mean_absolute_error, r2_score\n",
    "from sklearn.tree import DecisionTreeClassifier\n",
    "from sklearn.preprocessing import StandardScaler\n",
    "from sklearn.model_selection import train_test_split, ShuffleSplit\n"
   ]
  },
  {
   "cell_type": "code",
   "execution_count": 39,
   "metadata": {},
   "outputs": [
    {
     "name": "stdout",
     "output_type": "stream",
     "text": [
      "   survived  pclass     sex   age  sibsp  parch     fare embarked  class  \\\n",
      "0         0       3    male  22.0      1      0   7.2500        S  Third   \n",
      "1         1       1  female  38.0      1      0  71.2833        C  First   \n",
      "2         1       3  female  26.0      0      0   7.9250        S  Third   \n",
      "3         1       1  female  35.0      1      0  53.1000        S  First   \n",
      "4         0       3    male  35.0      0      0   8.0500        S  Third   \n",
      "\n",
      "     who  adult_male deck  embark_town alive  alone  \n",
      "0    man        True  NaN  Southampton    no  False  \n",
      "1  woman       False    C    Cherbourg   yes  False  \n",
      "2  woman       False  NaN  Southampton   yes   True  \n",
      "3  woman       False    C  Southampton   yes  False  \n",
      "4    man        True  NaN  Southampton    no   True  \n",
      "<class 'pandas.core.frame.DataFrame'>\n",
      "RangeIndex: 891 entries, 0 to 890\n",
      "Data columns (total 15 columns):\n",
      " #   Column       Non-Null Count  Dtype   \n",
      "---  ------       --------------  -----   \n",
      " 0   survived     891 non-null    int64   \n",
      " 1   pclass       891 non-null    int64   \n",
      " 2   sex          891 non-null    object  \n",
      " 3   age          714 non-null    float64 \n",
      " 4   sibsp        891 non-null    int64   \n",
      " 5   parch        891 non-null    int64   \n",
      " 6   fare         891 non-null    float64 \n",
      " 7   embarked     889 non-null    object  \n",
      " 8   class        891 non-null    category\n",
      " 9   who          891 non-null    object  \n",
      " 10  adult_male   891 non-null    bool    \n",
      " 11  deck         203 non-null    category\n",
      " 12  embark_town  889 non-null    object  \n",
      " 13  alive        891 non-null    object  \n",
      " 14  alone        891 non-null    bool    \n",
      "dtypes: bool(2), category(2), float64(2), int64(4), object(5)\n",
      "memory usage: 80.7+ KB\n",
      "None\n",
      "['survived', 'pclass', 'sex', 'age', 'sibsp', 'parch', 'fare', 'embarked', 'class', 'who', 'adult_male', 'deck', 'embark_town', 'alive', 'alone']\n",
      "15\n"
     ]
    }
   ],
   "source": [
    "# Load Titanic dataset\n",
    "df = sns.load_dataset('titanic')\n",
    "print(df.head())\n",
    "print(df.info())\n",
    "\n",
    "features = list(df.columns)\n",
    "print(features)\n",
    "print(len(features))"
   ]
  },
  {
   "cell_type": "code",
   "execution_count": 40,
   "metadata": {},
   "outputs": [],
   "source": [
    "# titanic.info()\n",
    "# print(titanic.head(10))\n",
    "# titanic.isnull().sum()\n",
    "# print(titanic.describe())\n",
    "# print(titanic.corr(numeric_only=True))"
   ]
  },
  {
   "cell_type": "markdown",
   "metadata": {},
   "source": [
    "# Section 2. Data Exploration and Preparation"
   ]
  },
  {
   "cell_type": "code",
   "execution_count": 41,
   "metadata": {},
   "outputs": [],
   "source": [
    "# attributes = ['age', 'fare', 'pclass']\n",
    "# scatter_matrix(titanic[attributes], figsize=(10, 10))"
   ]
  },
  {
   "cell_type": "code",
   "execution_count": 42,
   "metadata": {},
   "outputs": [],
   "source": [
    "# plt.scatter(titanic['age'], titanic['fare'], c=titanic['sex'].apply(lambda x: 0 if x == 'male' else 1))\n",
    "# plt.xlabel('Age')\n",
    "# plt.ylabel('Fare')\n",
    "# plt.title('Age vs Fare by Gender')\n",
    "# plt.show()"
   ]
  },
  {
   "cell_type": "code",
   "execution_count": 43,
   "metadata": {},
   "outputs": [],
   "source": [
    "# #Create a histogram of age:\n",
    "\n",
    "# sns.histplot(titanic['age'], kde=True)\n",
    "# plt.title('Age Distribution')\n",
    "# plt.show()"
   ]
  },
  {
   "cell_type": "code",
   "execution_count": 44,
   "metadata": {},
   "outputs": [],
   "source": [
    "# #Create a count plot for class and survival:\n",
    "\n",
    "# sns.countplot(x='class', hue='survived', data=titanic)\n",
    "# plt.title('Class Distribution by Survival')\n",
    "# plt.show()"
   ]
  },
  {
   "cell_type": "code",
   "execution_count": 45,
   "metadata": {},
   "outputs": [],
   "source": [
    "df['age'] = df['age'].fillna(df['age'].median())\n",
    "\n",
    "df['survived'] = df['survived'].fillna(df['survived'].median())\n",
    "\n",
    "titanic = df.dropna(subset=['fare'])\n",
    "\n",
    "titanic['family_size'] = titanic['sibsp'] + titanic['parch'] + 1"
   ]
  },
  {
   "cell_type": "markdown",
   "metadata": {},
   "source": [
    "<!-- ### Reflection 2.1:\n",
    "\n",
    "1. What patterns or anomalies do you notice? Young to middle age passengers, majority found in third class\n",
    "2. Do any features stand out as potential predictors? the deck location or fare price\n",
    "3. Are there any visible class imbalances? There are huge class imbalances. Majority of the passengers where younger families traveling to the USA -->"
   ]
  },
  {
   "cell_type": "markdown",
   "metadata": {},
   "source": [
    "## 2.1 Handle Missing Values and Clean Data"
   ]
  },
  {
   "cell_type": "code",
   "execution_count": 46,
   "metadata": {},
   "outputs": [],
   "source": [
    "# Impute missing values in 'age' with the median age\n",
    "df['age'].fillna(df['age'].median())\n",
    "\n",
    "# Fill missing values in 'survived' with the median age\n",
    "df['survived'].fillna(df['survived'].median())\n",
    "\n",
    "# Impute missing values in 'fare' with the mode (most common value)\n",
    "mode_val = df['fare'].mode()\n",
    "if not mode_val.empty:\n",
    "    df['fare'].fillna(mode_val[0])\n",
    "else:\n",
    "    print(\"No mode found for 'fare'\")\n"
   ]
  },
  {
   "cell_type": "markdown",
   "metadata": {},
   "source": [
    "## 2.2 Feature Engineering"
   ]
  },
  {
   "cell_type": "code",
   "execution_count": 47,
   "metadata": {},
   "outputs": [],
   "source": [
    "# Create a new feature 'family_size' (sum of siblings/spouses and parents/children aboard)\n",
    "df['family_size'] = df['sibsp'] + df['parch'] + 1  # +1 to include the passenger themselves"
   ]
  },
  {
   "cell_type": "markdown",
   "metadata": {},
   "source": [
    "<!-- ### Reflection 2.3\n",
    "\n",
    "1. Why might family size be a useful feature for predicting survival? famil;y size is a good prediction of survivalbility for the female and younger children of the families\n",
    "2. Why convert categorical data to numeric?  the conversion allows computations to be run on the data. -->"
   ]
  },
  {
   "cell_type": "markdown",
   "metadata": {},
   "source": [
    "# Section 3. Feature Selection and Justification\n",
    "\n",
    "- Select two or more input features (numerical for regression, numerical and/or categorical for classification)\n",
    "- Use 'Survived' as the target\n",
    "\n",
    "First:\n",
    "- input features: age\n",
    "- target: fare\n",
    "\n",
    "Second:\n",
    "- input features - family size\n",
    "- target: fare\n",
    "\n",
    "Third:\n",
    "- input features -  age, family_size\n",
    "- target: fare\n",
    "\n",
    "Fourth: \n",
    "- input feature - survived \n",
    "- target - fare\n"
   ]
  },
  {
   "cell_type": "markdown",
   "metadata": {},
   "source": [
    "## 3.1 Choose features and target"
   ]
  },
  {
   "cell_type": "code",
   "execution_count": 48,
   "metadata": {},
   "outputs": [
    {
     "name": "stdout",
     "output_type": "stream",
     "text": [
      "    age  family_size  survived     fare\n",
      "0  22.0            2         0   7.2500\n",
      "1  38.0            2         1  71.2833\n",
      "2  26.0            1         1   7.9250\n",
      "3  35.0            2         1  53.1000\n",
      "4  35.0            1         0   8.0500\n"
     ]
    }
   ],
   "source": [
    "# Select relevant features for classification\n",
    "features = ['age', 'family_size', 'survived']\n",
    "target = 'fare'\n",
    "\n",
    "# Extract relevant columns\n",
    "titanic_classification = df[features + [target]]\n",
    "\n",
    "# Drop rows with missing values\n",
    "titanic_classification = titanic_classification.dropna()\n",
    "\n",
    "# Display the processed dataset\n",
    "print(titanic_classification.head())"
   ]
  },
  {
   "cell_type": "markdown",
   "metadata": {},
   "source": [
    "## 3.2 Define X (features) and y (target)\n",
    "- Assign input features to X a pandas DataFrame with 1 or more input features\n",
    "- Assign target variable to y (as applicable) - a pandas Series with a single target feature\n",
    "- Again - use comments to run a single case at a time\n",
    "\n",
    "- The follow starts with only the statements needed for case 1. \n",
    "- Double brackets [[ ]]  makes a 2D DataFrame\n",
    "- Single brackets [ ]  make a 1D Series"
   ]
  },
  {
   "cell_type": "code",
   "execution_count": 49,
   "metadata": {},
   "outputs": [],
   "source": [
    "# Case 1 Assign input features to X = (alone)\n",
    "X = df['age']\n",
    "# Assign target variable to y (as applicable)\n",
    "y = df['fare']"
   ]
  },
  {
   "cell_type": "code",
   "execution_count": 50,
   "metadata": {},
   "outputs": [],
   "source": [
    "# Case 2 Assign input features to X = embarked\n",
    "X = df['family_size']\n",
    "# Assign target variable to y (as applicable)   \n",
    "y = df['fare']"
   ]
  },
  {
   "cell_type": "code",
   "execution_count": 51,
   "metadata": {},
   "outputs": [],
   "source": [
    "#  Case 3 Assign input features to X = \n",
    "X = df[['age', 'family_size']]\n",
    "# Assign target variable to y (as applicable)\n",
    "y = df['fare']"
   ]
  },
  {
   "cell_type": "code",
   "execution_count": 52,
   "metadata": {},
   "outputs": [],
   "source": [
    "#  Case 4 Assign input features to X = \n",
    "X = df['survived']\n",
    "# Assign target variable to y (as applicable)\n",
    "y = df['fare']"
   ]
  },
  {
   "cell_type": "markdown",
   "metadata": {},
   "source": [
    "### Reflection 3:\n",
    "\n",
    "1. Why are these features selected? the features selected provide the most tell of survivability\n",
    "2. Are there any features that are likely to be highly predictive of survival? Yes age and class"
   ]
  },
  {
   "cell_type": "markdown",
   "metadata": {},
   "source": [
    "# Section 4. Train a Classification Model (Decision Tree)"
   ]
  },
  {
   "cell_type": "markdown",
   "metadata": {},
   "source": [
    "## 4.1 Basic Train/Test split "
   ]
  },
  {
   "cell_type": "code",
   "execution_count": 53,
   "metadata": {},
   "outputs": [
    {
     "name": "stdout",
     "output_type": "stream",
     "text": [
      "Train size: 712\n",
      "Test size: 179\n"
     ]
    }
   ],
   "source": [
    "X_train, X_test, y_train, y_test = train_test_split(X, y, test_size=0.2, random_state=123)\n",
    "\n",
    "print('Train size:', len(X_train))\n",
    "print('Test size:', len(X_test))"
   ]
  },
  {
   "cell_type": "markdown",
   "metadata": {},
   "source": [
    "## 4.2 Train/Test split"
   ]
  },
  {
   "cell_type": "code",
   "execution_count": 57,
   "metadata": {},
   "outputs": [],
   "source": [
    "from sklearn.model_selection import train_test_split\n",
    "\n",
    "cases = {\n",
    "    \"Case 1\": df[['age']],\n",
    "    \"Case 2\": df[['family_size']],\n",
    "    \"Case 3\": df[['age', 'family_size']],\n",
    "}\n",
    "\n",
    "splits = {}\n",
    "\n",
    "for name, X in cases.items():\n",
    "    y = df['fare']\n",
    "    X_train, X_test, y_train, y_test = train_test_split(X, y, test_size=0.2, random_state=123)\n",
    "    splits[name] = (X_train, X_test, y_train, y_test)\n"
   ]
  },
  {
   "cell_type": "code",
   "execution_count": 58,
   "metadata": {},
   "outputs": [
    {
     "name": "stdout",
     "output_type": "stream",
     "text": [
      "\n",
      "Case 1 Performance\n",
      "MAE: 25.28637293162364\n",
      "R²: 0.0034163395508415295\n",
      "\n",
      "Case 2 Performance\n",
      "MAE: 25.02534815941641\n",
      "R²: 0.022231186110131973\n",
      "\n",
      "Case 3 Performance\n",
      "MAE: 24.284935030470688\n",
      "R²: 0.049784832763073106\n"
     ]
    }
   ],
   "source": [
    "for case, (X_train, X_test, y_train, y_test) in splits.items():\n",
    "    model = LinearRegression()\n",
    "    model.fit(X_train, y_train)\n",
    "    preds = model.predict(X_test)\n",
    "\n",
    "    print(f\"\\n{case} Performance\")\n",
    "    print(\"MAE:\", mean_absolute_error(y_test, preds))\n",
    "    print(\"R²:\", r2_score(y_test, preds))\n"
   ]
  },
  {
   "cell_type": "markdown",
   "metadata": {},
   "source": [
    "## 4.3 Compare Results\n"
   ]
  },
  {
   "cell_type": "code",
   "execution_count": 59,
   "metadata": {},
   "outputs": [
    {
     "name": "stdout",
     "output_type": "stream",
     "text": [
      "Original Fare Distribution:\n",
      " count    891.000000\n",
      "mean      32.204208\n",
      "std       49.693429\n",
      "min        0.000000\n",
      "25%        7.910400\n",
      "50%       14.454200\n",
      "75%       31.000000\n",
      "max      512.329200\n",
      "Name: fare, dtype: float64\n",
      "Train Fare Distribution:\n",
      " count    712.000000\n",
      "mean      32.388400\n",
      "std       52.218079\n",
      "min        0.000000\n",
      "25%        7.895800\n",
      "50%       13.500000\n",
      "75%       30.070800\n",
      "max      512.329200\n",
      "Name: fare, dtype: float64\n",
      "Test Fare Distribution:\n",
      " count    179.000000\n",
      "mean      31.471556\n",
      "std       38.143365\n",
      "min        0.000000\n",
      "25%        8.050000\n",
      "50%       18.750000\n",
      "75%       34.687500\n",
      "max      247.520800\n",
      "Name: fare, dtype: float64\n"
     ]
    },
    {
     "data": {
      "image/png": "[encoded data removed]",
      "text/plain": [
       "<Figure size 640x480 with 1 Axes>"
      ]
     },
     "metadata": {},
     "output_type": "display_data"
    }
   ],
   "source": [
    "print(\"Original Fare Distribution:\\n\", y.describe())\n",
    "print(\"Train Fare Distribution:\\n\", y_train.describe())\n",
    "print(\"Test Fare Distribution:\\n\", y_test.describe())\n",
    "\n",
    "y_train.hist(alpha=0.5, label='Train')\n",
    "y_test.hist(alpha=0.5, label='Test')\n",
    "plt.legend()\n",
    "plt.title('Fare Distribution in Train vs Test Set')\n",
    "plt.xlabel('Fare')\n",
    "plt.ylabel('Count')\n",
    "plt.show()"
   ]
  },
  {
   "cell_type": "markdown",
   "metadata": {},
   "source": [
    "### Reflection 4:\n",
    "\n",
    "1. Why might stratification improve model performance? this ensures that the data is equallly representivate across the whole data set. \n",
    "2. How close are the training and test distributions to the original dataset?\n",
    "3. Which split method produced better class balance?"
   ]
  },
  {
   "cell_type": "markdown",
   "metadata": {},
   "source": [
    "## Section 5. "
   ]
  },
  {
   "cell_type": "code",
   "execution_count": null,
   "metadata": {},
   "outputs": [],
   "source": []
  }
 ],
 "metadata": {
  "kernelspec": {
   "display_name": ".venv",
   "language": "python",
   "name": "python3"
  },
  "language_info": {
   "codemirror_mode": {
    "name": "ipython",
    "version": 3
   },
   "file_extension": ".py",
   "mimetype": "text/x-python",
   "name": "python",
   "nbconvert_exporter": "python",
   "pygments_lexer": "ipython3",
   "version": "3.13.2"
  }
 },
 "nbformat": 4,
 "nbformat_minor": 2
}
