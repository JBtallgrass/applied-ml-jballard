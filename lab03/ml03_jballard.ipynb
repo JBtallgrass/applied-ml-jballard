{
 "cells": [
  {
   "cell_type": "markdown",
   "metadata": {},
   "source": [
    "# Lab 3 – Predicting a Categorical Target and Evaluating Performance"
   ]
  },
  {
   "cell_type": "markdown",
   "metadata": {},
   "source": [
    "## Section 1. Load and Inspect the Data\n",
    "\n",
    "### 1.1 Load the dataset"
   ]
  },
  {
   "cell_type": "code",
   "execution_count": null,
   "metadata": {},
   "outputs": [],
   "source": [
    "# Data Handling & Visualization\n",
    "import pandas as pd\n",
    "import numpy as np\n",
    "import seaborn as sns\n",
    "import matplotlib.pyplot as plt\n",
    "from pandas.plotting import scatter_matrix\n",
    "\n",
    "# Machine Learning & Model Evaluation\n",
    "from sklearn.datasets import load_wine\n",
    "from sklearn.model_selection import StratifiedShuffleSplit, train_test_split, GridSearchCV\n",
    "from sklearn.ensemble import RandomForestClassifier\n",
    "from sklearn.metrics import accuracy_score, classification_report\n",
    "\n",
    "# Dimensionality Reduction\n",
    "from sklearn.decomposition import PCA\n",
    "\n",
    "\n",
    "howell_full = pd.read_csv(\"Howell.csv\", sep=\";\")"
   ]
  },
  {
   "cell_type": "markdown",
   "metadata": {},
   "source": [
    "## Section 2. Data Exploration and Preparation\n",
    "\n",
    "### 2.1 Create new features"
   ]
  },
  {
   "cell_type": "code",
   "execution_count": null,
   "metadata": {},
   "outputs": [],
   "source": [
    "# Compute bmi based on height and weight metric units\n",
    "def bmi(height, weight):\n",
    "    return 10000*weight/(height**2)\n",
    "\n",
    "# New Feature\n",
    "howell_full['bmi'] = bmi(howell_full['height'], howell_full['weight'])\n",
    "\n",
    "\n",
    "def bmi_category(bmi):\n",
    "    # bmi can only be a single value\n",
    "    if bmi < 18.5:\n",
    "        return 'Underweight'\n",
    "    if bmi < 25.0:\n",
    "        return 'Normal'\n",
    "    if bmi < 30.0:\n",
    "        return 'Overweight'\n",
    "    return 'Obese'\n",
    "\n",
    "vector_bmi_category = np.vectorize(bmi_category)\n",
    "howell_full['bmi class'] = vector_bmi_category(howell_full['bmi'])\n",
    "\n",
    "howell_full['bmi class'].value_counts()\n",
    "\n",
    "# The following is an array of True/False\n",
    "over18 = howell_full[\"age\"] > 18\n",
    "\n",
    "# Only keep the true instances to work with adults\n",
    "howell_adults = howell_full[over18]\n",
    "\n",
    "#The not operator is ~ in numpy\n",
    "howell_children = howell_full[~over18]   "
   ]
  },
  {
   "cell_type": "markdown",
   "metadata": {},
   "source": [
    "- Plot with masking\n",
    "Another way to restrict the instances you use is to apply masking to a numpy array. We replace certain values in the array with a mask. (This is not a NaN... the value is still there, it just won't be used.)\n",
    "\n",
    "In this plot we are only using the adult instances (howell_adult) and we are going to create masks for male and female  (male is 1 or 0)"
   ]
  },
  {
   "cell_type": "code",
   "execution_count": null,
   "metadata": {},
   "outputs": [],
   "source": [
    "male_height = np.ma.masked_where(howell_adults['male']==0, howell_adults['height'])\n",
    "female_height = np.ma.masked_where(howell_adults['male']==1, howell_adults['height'])\n",
    "\n",
    "weight = howell_adults['weight']\n",
    "plt.scatter(male_height, weight, c='red', marker='+')\n",
    "plt.scatter(female_height, weight, c='blue', marker='^')\n",
    "\n",
    "plt.xlabel('weight')\n",
    "plt.ylabel('height')\n",
    "plt.legend(['Male', 'Female'])\n",
    "plt.show()"
   ]
  },
  {
   "cell_type": "markdown",
   "metadata": {},
   "source": [
    "## Section 3. Feature Selection and Justification\n",
    "\n",
    "### 3.1 Choose features and target"
   ]
  },
  {
   "cell_type": "code",
   "execution_count": null,
   "metadata": {},
   "outputs": [],
   "source": [
    "First:\n",
    "\n",
    "input features: Height,\n",
    "target: Gender\n",
    "Second:\n",
    "\n",
    "input features:  Weight,\n",
    "target: Gender\n",
    "Third:\n",
    "\n",
    "input features: Height, Weight\n",
    "target: Gender\n",
    " \n",
    "\n",
    "Justify your selections\n",
    "\n",
    "Height and weight are likely to show patterns based on gender.\n",
    "Age could contribute to secondary patterns. By restricting our data to adults, we help mitigate some of this. "
   ]
  },
  {
   "cell_type": "markdown",
   "metadata": {},
   "source": [
    "### 3.2 Define X (features) and y (target)"
   ]
  },
  {
   "cell_type": "markdown",
   "metadata": {},
   "source": [
    "#### Reflection 3:\n",
    "- Why did you choose these features?\n",
    "- How might they impact predictions or accuracy?"
   ]
  },
  {
   "cell_type": "markdown",
   "metadata": {},
   "source": [
    "## Section 4. Train a Classification Model (Decision Tree)\n",
    " \n",
    "### 4.1 Split the Data"
   ]
  },
  {
   "cell_type": "markdown",
   "metadata": {},
   "source": [
    "### 4.2 Train Model (Decision Tree)"
   ]
  },
  {
   "cell_type": "markdown",
   "metadata": {},
   "source": [
    "### 4.3 Evaluate Model Performance"
   ]
  },
  {
   "cell_type": "markdown",
   "metadata": {},
   "source": [
    "### 4.4 Report Confusion Matrix (as a heatmap)"
   ]
  },
  {
   "cell_type": "markdown",
   "metadata": {},
   "source": [
    "### 4.5 Report Decision Tree Plot"
   ]
  },
  {
   "cell_type": "markdown",
   "metadata": {},
   "source": [
    "#### Reflection 4:\n",
    "How well did the models perform?\n",
    "Are there any surprising results?\n",
    "Which worked better: just height, just weight, or using both together? "
   ]
  },
  {
   "cell_type": "markdown",
   "metadata": {},
   "source": [
    "## Section 5. Compare Alternative Models (SVC, NN)\n",
    " \n",
    "### 5.1 Train Support Vector Classifier (SVC) Model"
   ]
  },
  {
   "cell_type": "markdown",
   "metadata": {},
   "source": [
    "### 5.2 Train a Neural Network (NN) Model"
   ]
  },
  {
   "cell_type": "markdown",
   "metadata": {},
   "source": [
    "#### Reflection 5:\n",
    "\n",
    "- How well did each model perform?\n",
    "- Are there any surprising results?\n",
    "- Why might one model outperform the others?"
   ]
  },
  {
   "cell_type": "markdown",
   "metadata": {},
   "source": [
    "## Section 6. Final Thoughts & Insights\n",
    "\n",
    "### 6.1 Summarize Findings\n",
    "\n",
    "- What indicators are strong predictors of gender?\n",
    "- Decision Tree performed well but overfit slightly on training data.\n",
    "- Neural Network showed moderate improvement but introduced complexity.\n"
   ]
  },
  {
   "cell_type": "markdown",
   "metadata": {},
   "source": [
    "### 6.2 Discuss Challenges Faced\n",
    "\n",
    "- Small sample size could limit generalizability.\n",
    "- Missing values (if any) could bias the model."
   ]
  },
  {
   "cell_type": "markdown",
   "metadata": {},
   "source": [
    "### 6.3 Next Steps\n",
    "Test more features (e.g., BMI class).\n",
    "Try hyperparameter tuning for better results.\n"
   ]
  }
 ],
 "metadata": {
  "language_info": {
   "name": "python"
  }
 },
 "nbformat": 4,
 "nbformat_minor": 2
}
