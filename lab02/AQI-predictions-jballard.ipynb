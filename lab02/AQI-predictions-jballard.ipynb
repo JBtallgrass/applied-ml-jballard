{
 "cells": [
  {
   "cell_type": "markdown",
   "metadata": {},
   "source": [
    "# Lab 2 - Exploring and manipulating data. \n",
    "Here is what we do in python \n",
    "1. Read in the data from a CSV file and do simple visualizations\n",
    "2. Look for patterns in the data\n",
    "3. Deal with missing values\n",
    "4. Add in new features\n",
    "5. Split and graph"
   ]
  },
  {
   "cell_type": "code",
   "execution_count": null,
   "metadata": {},
   "outputs": [
    {
     "ename": "ImportError",
     "evalue": "cannot import name 'mean_squared_errorimport' from 'sklearn.metrics' (c:\\Users\\balla\\Projects\\appML\\appML_lab_01\\.venv\\Lib\\site-packages\\sklearn\\metrics\\__init__.py)",
     "output_type": "error",
     "traceback": [
      "\u001b[31m---------------------------------------------------------------------------\u001b[39m",
      "\u001b[31mImportError\u001b[39m                               Traceback (most recent call last)",
      "\u001b[36mCell\u001b[39m\u001b[36m \u001b[39m\u001b[32mIn[1]\u001b[39m\u001b[32m, line 23\u001b[39m\n\u001b[32m     20\u001b[39m \u001b[38;5;28;01mfrom\u001b[39;00m\u001b[38;5;250m \u001b[39m\u001b[34;01msklearn\u001b[39;00m\u001b[34;01m.\u001b[39;00m\u001b[34;01mlinear_model\u001b[39;00m\u001b[38;5;250m \u001b[39m\u001b[38;5;28;01mimport\u001b[39;00m LinearRegression\n\u001b[32m     22\u001b[39m \u001b[38;5;66;03m# Import performance metrics for model evaluation\u001b[39;00m\n\u001b[32m---> \u001b[39m\u001b[32m23\u001b[39m \u001b[38;5;28;01mfrom\u001b[39;00m\u001b[38;5;250m \u001b[39m\u001b[34;01msklearn\u001b[39;00m\u001b[34;01m.\u001b[39;00m\u001b[34;01mmetrics\u001b[39;00m\u001b[38;5;250m \u001b[39m\u001b[38;5;28;01mimport\u001b[39;00m mean_absolute_error, r2_score, mean_squared_errorimport \n",
      "\u001b[31mImportError\u001b[39m: cannot import name 'mean_squared_errorimport' from 'sklearn.metrics' (c:\\Users\\balla\\Projects\\appML\\appML_lab_01\\.venv\\Lib\\site-packages\\sklearn\\metrics\\__init__.py)"
     ]
    }
   ],
   "source": [
    "# All imports should be at the top of the notebook\n",
    "# This cell will be executed when the notebook is loaded\n",
    "\n",
    "# Import pandas for data manipulation and analysis (we might want to do more with it)\n",
    "import pandas as pd\n",
    "\n",
    "# Import pandas for data manipulation and analysis  (we might want to do more with it)\n",
    "import numpy as np\n",
    "\n",
    "# Import matplotlib for creating static visualizations\n",
    "import matplotlib.pyplot as plt\n",
    "\n",
    "# Import seaborn for statistical data visualization (built on matplotlib)\n",
    "import seaborn as sns\n",
    "\n",
    "# Import train_test_split for splitting data into training and test sets\n",
    "from sklearn.model_selection import train_test_split\n",
    "\n",
    "# Import LinearRegression for building a linear regression model\n",
    "from sklearn.linear_model import LinearRegression\n",
    "\n",
    "# Import performance metrics for model evaluation\n",
    "from sklearn.metrics import mean_absolute_error, r2_score, mean_squared_errorimport "
   ]
  },
  {
   "cell_type": "code",
   "execution_count": null,
   "metadata": {},
   "outputs": [],
   "source": [
    "# Define the file path\n",
    "file_path = r\"C:\\Users\\balla\\Projects\\pollution_2000_2023.csv\""
   ]
  },
  {
   "cell_type": "code",
   "execution_count": null,
   "metadata": {},
   "outputs": [],
   "source": [
    "# Check if the file exists\n",
    "if not os.path.exists(file_path):\n",
    "    raise FileNotFoundError(f\"File not found: {file_path}\")"
   ]
  },
  {
   "cell_type": "code",
   "execution_count": null,
   "metadata": {},
   "outputs": [],
   "source": [
    "# Load the dataset\n",
    "df = pd.read_csv(file_path)\n",
    "\n",
    "# Define the target variable (Example: O3 AQI)\n",
    "target_y = \"O3 AQI\"\n",
    "\n",
    "# Check for missing values\n",
    "missing_y = df[target_y].isnull().sum()\n",
    "\n",
    "# Address missing values (if any)\n",
    "if missing_y > 0:\n",
    "    df[target_y].fillna(df[target_y].median(), inplace=True)  # Filling with median value"
   ]
  },
  {
   "cell_type": "code",
   "execution_count": null,
   "metadata": {},
   "outputs": [],
   "source": [
    "# Characterize target variable histogram\n",
    "plt.figure(figsize=(8, 5))\n",
    "plt.hist(df[target_y], bins=50, edgecolor=\"black\", alpha=0.7)\n",
    "plt.xlabel(target_y)\n",
    "plt.ylabel(\"Frequency\")\n",
    "plt.title(f\"Histogram of {target_y}\")\n",
    "plt.grid(axis=\"y\", alpha=0.75)\n",
    "\n",
    "# Save the histogram as an image\n",
    "histogram_path = os.path.join(os.path.dirname(file_path), \"target_y_histogram.png\")\n",
    "plt.savefig(histogram_path)\n",
    "plt.show()\n",
    "\n",
    "# Output results\n",
    "print(f\"Predicted Target y Feature: {target_y}\")\n",
    "print(f\"Missing y Values: {missing_y}\")\n",
    "print(\"Missing values handled by filling with median value.\")\n",
    "print(f\"Histogram saved at: {histogram_path}\")\n"
   ]
  }
 ],
 "metadata": {
  "kernelspec": {
   "display_name": ".venv",
   "language": "python",
   "name": "python3"
  },
  "language_info": {
   "codemirror_mode": {
    "name": "ipython",
    "version": 3
   },
   "file_extension": ".py",
   "mimetype": "text/x-python",
   "name": "python",
   "nbconvert_exporter": "python",
   "pygments_lexer": "ipython3",
   "version": "3.12.4"
  }
 },
 "nbformat": 4,
 "nbformat_minor": 2
}
