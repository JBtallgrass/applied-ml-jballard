{
 "cells": [
  {
   "cell_type": "markdown",
   "metadata": {},
   "source": []
  },
  {
   "cell_type": "code",
   "execution_count": null,
   "metadata": {},
   "outputs": [],
   "source": [
    "# All imports should be at the top of the notebook\n",
    "# This cell will be executed when the notebook is loaded\n",
    "\n",
    "# Import pandas for data manipulation and analysis (we might want to do more with it)\n",
    "# import pandas as pd\n",
    "\n",
    "# Import pandas for data manipulation and analysis  (we might want to do more with it)\n",
    "import numpy as np\n",
    "\n",
    "# Import matplotlib for creating static visualizations\n",
    "import matplotlib.pyplot as plt\n",
    "\n",
    "# Import seaborn for statistical data visualization (built on matplotlib)\n",
    "import seaborn as sns\n",
    "\n",
    "# Import train_test_split for splitting data into training and test sets\n",
    "from sklearn.model_selection import train_test_split\n",
    "\n",
    "# Import LinearRegression for building a linear regression model\n",
    "from sklearn.linear_model import LinearRegression\n",
    "\n",
    "# Import performance metrics for model evaluation\n",
    "from sklearn.metrics import mean_absolute_error, r2_score, mean_squared_errorimport "
   ]
  },
  {
   "cell_type": "code",
   "execution_count": null,
   "metadata": {},
   "outputs": [],
   "source": [
    "# Define the file path\n",
    "file_path = r\"C:\\Users\\balla\\Projects\\pollution_2000_2023.csv\""
   ]
  },
  {
   "cell_type": "code",
   "execution_count": null,
   "metadata": {},
   "outputs": [],
   "source": [
    "# Check if the file exists\n",
    "if not os.path.exists(file_path):\n",
    "    raise FileNotFoundError(f\"File not found: {file_path}\")"
   ]
  },
  {
   "cell_type": "code",
   "execution_count": null,
   "metadata": {},
   "outputs": [],
   "source": [
    "# Load the dataset\n",
    "df = pd.read_csv(file_path)\n",
    "\n",
    "# Define the target variable (Example: O3 AQI)\n",
    "target_y = \"O3 AQI\"\n",
    "\n",
    "# Check for missing values\n",
    "missing_y = df[target_y].isnull().sum()\n",
    "\n",
    "# Address missing values (if any)\n",
    "if missing_y > 0:\n",
    "    df[target_y].fillna(df[target_y].median(), inplace=True)  # Filling with median value"
   ]
  },
  {
   "cell_type": "code",
   "execution_count": null,
   "metadata": {},
   "outputs": [],
   "source": [
    "# Characterize target variable histogram\n",
    "plt.figure(figsize=(8, 5))\n",
    "plt.hist(df[target_y], bins=50, edgecolor=\"black\", alpha=0.7)\n",
    "plt.xlabel(target_y)\n",
    "plt.ylabel(\"Frequency\")\n",
    "plt.title(f\"Histogram of {target_y}\")\n",
    "plt.grid(axis=\"y\", alpha=0.75)\n",
    "\n",
    "# Save the histogram as an image\n",
    "histogram_path = os.path.join(os.path.dirname(file_path), \"target_y_histogram.png\")\n",
    "plt.savefig(histogram_path)\n",
    "plt.show()\n",
    "\n",
    "# Output results\n",
    "print(f\"Predicted Target y Feature: {target_y}\")\n",
    "print(f\"Missing y Values: {missing_y}\")\n",
    "print(\"Missing values handled by filling with median value.\")\n",
    "print(f\"Histogram saved at: {histogram_path}\")\n"
   ]
  }
 ],
 "metadata": {
  "language_info": {
   "name": "python"
  }
 },
 "nbformat": 4,
 "nbformat_minor": 2
}
