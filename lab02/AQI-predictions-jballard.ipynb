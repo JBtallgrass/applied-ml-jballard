{
 "cells": [
  {
   "cell_type": "markdown",
   "metadata": {},
   "source": [
    "# Lab 2 - Exploring and manipulating data. \n",
    "Here is what we do in python \n",
    "1. Read in the data from a CSV file and do simple visualizations\n",
    "2. Look for patterns in the data\n",
    "3. Deal with missing values\n",
    "4. Add in new features\n",
    "5. Split and graph"
   ]
  },
  {
   "cell_type": "code",
   "execution_count": 5,
   "metadata": {},
   "outputs": [],
   "source": [
    "# All imports should be at the top of the notebook\n",
    "# This cell will be executed when the notebook is loaded\n",
    "\n",
    "# Import the necessary libraries\n",
    "import os\n",
    "import pandas as pd\n",
    "import numpy as np\n",
    "import matplotlib.pyplot as plt\n",
    "import seaborn as sns\n",
    "from sklearn.model_selection import train_test_split\n",
    "from sklearn.linear_model import LinearRegression\n",
    "from sklearn.metrics import mean_absolute_error, r2_score"
   ]
  },
  {
   "cell_type": "code",
   "execution_count": 6,
   "metadata": {},
   "outputs": [
    {
     "name": "stdout",
     "output_type": "stream",
     "text": [
      "✅ File found: C:\\Users\\balla\\Projects\\appML\\applied-ml-jballard\\data\\pollution_2000_2023.csv\n"
     ]
    }
   ],
   "source": [
    "file_path = r\"C:\\Users\\balla\\Projects\\appML\\applied-ml-jballard\\data\\pollution_2000_2023.csv\"\n",
    "\n",
    "if os.path.exists(file_path):\n",
    "    print(\"✅ File found:\", file_path)\n",
    "else:\n",
    "    print(f\"❌ File not found: {file_path}\")"
   ]
  },
  {
   "cell_type": "code",
   "execution_count": 7,
   "metadata": {},
   "outputs": [
    {
     "name": "stdout",
     "output_type": "stream",
     "text": [
      "🔍 Current Working Directory: c:\\Users\\balla\\Projects\\appML\\applied-ml-jballard\\lab02\n"
     ]
    }
   ],
   "source": [
    "print(\"🔍 Current Working Directory:\", os.getcwd())\n",
    "\n",
    "os.chdir(r\"C:\\Users\\balla\\Projects\\appML\\applied-ml-jballard\")"
   ]
  },
  {
   "cell_type": "code",
   "execution_count": 10,
   "metadata": {},
   "outputs": [],
   "source": [
    "# Load the dataset\n",
    "df = pd.read_csv(file_path)\n",
    "\n",
    "# Define the target variable (Example: O3 AQI)\n",
    "target_y = \"O3 AQI\"\n",
    "\n",
    "# Check for missing values\n",
    "missing_y = df[target_y].isnull().sum()\n",
    "\n",
    "# Address missing values (if any)\n",
    "if missing_y > 0:\n",
    "    df[target_y].fillna(df[target_y].median(), inplace=True)  # Filling with median value"
   ]
  },
  {
   "cell_type": "code",
   "execution_count": 11,
   "metadata": {},
   "outputs": [
    {
     "data": {
      "image/png": "[encoded data removed]",
      "text/plain": [
       "<Figure size 800x500 with 1 Axes>"
      ]
     },
     "metadata": {},
     "output_type": "display_data"
    },
    {
     "name": "stdout",
     "output_type": "stream",
     "text": [
      "Predicted Target y Feature: O3 AQI\n",
      "Missing y Values: 0\n",
      "Missing values handled by filling with median value.\n",
      "Histogram saved at: C:\\Users\\balla\\Projects\\appML\\applied-ml-jballard\\data\\target_y_histogram.png\n"
     ]
    }
   ],
   "source": [
    "# Characterize target variable histogram\n",
    "plt.figure(figsize=(8, 5))\n",
    "plt.hist(df[target_y], bins=50, edgecolor=\"black\", alpha=0.7)\n",
    "plt.xlabel(target_y)\n",
    "plt.ylabel(\"Frequency\")\n",
    "plt.title(f\"Histogram of {target_y}\")\n",
    "plt.grid(axis=\"y\", alpha=0.75)\n",
    "\n",
    "# Save the histogram as an image\n",
    "histogram_path = os.path.join(os.path.dirname(file_path), \"target_y_histogram.png\")\n",
    "plt.savefig(histogram_path)\n",
    "plt.show()\n",
    "\n",
    "# Output results\n",
    "print(f\"Predicted Target y Feature: {target_y}\")\n",
    "print(f\"Missing y Values: {missing_y}\")\n",
    "print(\"Missing values handled by filling with median value.\")\n",
    "print(f\"Histogram saved at: {histogram_path}\")\n"
   ]
  }
 ],
 "metadata": {
  "kernelspec": {
   "display_name": ".venv",
   "language": "python",
   "name": "python3"
  },
  "language_info": {
   "codemirror_mode": {
    "name": "ipython",
    "version": 3
   },
   "file_extension": ".py",
   "mimetype": "text/x-python",
   "name": "python",
   "nbconvert_exporter": "python",
   "pygments_lexer": "ipython3",
   "version": "3.12.4"
  }
 },
 "nbformat": 4,
 "nbformat_minor": 2
}
